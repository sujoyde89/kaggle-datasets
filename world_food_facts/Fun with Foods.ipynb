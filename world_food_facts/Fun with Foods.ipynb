{
 "cells": [
  {
   "cell_type": "markdown",
   "metadata": {},
   "source": [
    "This dataset  has been taken from the link https://www.kaggle.com/openfoodfacts/world-food-facts.  \n",
    "\n",
    "Open Food Facts is a free, open, collbarative database of food products from around the world, with ingredients, allergens, nutrition facts and all the tidbits of information we can find on product labels.\n",
    "\n",
    "Open Food Facts is a non-profit association of volunteers. 5000+ contributors like you have added 100 000+ products from 150 countries using our Android, iPhone or Windows Phone app or their camera to scan barcodes and upload pictures of products and their labels.\n",
    "\n",
    "### We will try to compare various characteristics of food from some countries"
   ]
  },
  {
   "cell_type": "markdown",
   "metadata": {},
   "source": [
    "Importing the necessary packages"
   ]
  },
  {
   "cell_type": "code",
   "execution_count": 1,
   "metadata": {
    "collapsed": false
   },
   "outputs": [],
   "source": [
    "import pandas as pd # package for high-performance, easy-to-use data structures and data analysis\n",
    "import numpy as np # fundamental package for scientific computing with Python\n",
    "# for plotting\n",
    "import matplotlib.pyplot as plt\n",
    "import seaborn as sns\n",
    "\n",
    "# Supress unnecessary warnings so that presentation looks clean\n",
    "import warnings\n",
    "warnings.filterwarnings(\"ignore\")\n",
    "\n",
    "%matplotlib inline"
   ]
  },
  {
   "cell_type": "markdown",
   "metadata": {},
   "source": [
    "Lets read in the dataset"
   ]
  },
  {
   "cell_type": "code",
   "execution_count": 2,
   "metadata": {
    "collapsed": false
   },
   "outputs": [],
   "source": [
    "data = pd.read_csv('products.tsv',  sep='\\t')"
   ]
  },
  {
   "cell_type": "code",
   "execution_count": 3,
   "metadata": {
    "collapsed": false,
    "scrolled": true
   },
   "outputs": [
    {
     "name": "stdout",
     "output_type": "stream",
     "text": [
      "The number of rows in the dataset is 333824\n",
      "The number of columns in the dataset is 162\n"
     ]
    }
   ],
   "source": [
    "print (\"The number of rows in the dataset is \" + str(data.shape[0]))\n",
    "print (\"The number of columns in the dataset is \" + str(data.shape[1]))"
   ]
  },
  {
   "cell_type": "code",
   "execution_count": 4,
   "metadata": {
    "collapsed": false
   },
   "outputs": [
    {
     "data": {
      "text/html": [
       "<div>\n",
       "<table border=\"1\" class=\"dataframe\">\n",
       "  <thead>\n",
       "    <tr style=\"text-align: right;\">\n",
       "      <th></th>\n",
       "      <th>code</th>\n",
       "      <th>url</th>\n",
       "      <th>creator</th>\n",
       "      <th>created_t</th>\n",
       "      <th>created_datetime</th>\n",
       "      <th>last_modified_t</th>\n",
       "      <th>last_modified_datetime</th>\n",
       "      <th>product_name</th>\n",
       "      <th>generic_name</th>\n",
       "      <th>quantity</th>\n",
       "      <th>...</th>\n",
       "      <th>ph_100g</th>\n",
       "      <th>fruits-vegetables-nuts_100g</th>\n",
       "      <th>collagen-meat-protein-ratio_100g</th>\n",
       "      <th>cocoa_100g</th>\n",
       "      <th>chlorophyl_100g</th>\n",
       "      <th>carbon-footprint_100g</th>\n",
       "      <th>nutrition-score-fr_100g</th>\n",
       "      <th>nutrition-score-uk_100g</th>\n",
       "      <th>glycemic-index_100g</th>\n",
       "      <th>water-hardness_100g</th>\n",
       "    </tr>\n",
       "  </thead>\n",
       "  <tbody>\n",
       "    <tr>\n",
       "      <th>0</th>\n",
       "      <td>3087</td>\n",
       "      <td>http://world-en.openfoodfacts.org/product/0000...</td>\n",
       "      <td>openfoodfacts-contributors</td>\n",
       "      <td>1474103866</td>\n",
       "      <td>2016-09-17T09:17:46Z</td>\n",
       "      <td>1474103893</td>\n",
       "      <td>2016-09-17T09:18:13Z</td>\n",
       "      <td>Farine de blé noir</td>\n",
       "      <td>NaN</td>\n",
       "      <td>1kg</td>\n",
       "      <td>...</td>\n",
       "      <td>NaN</td>\n",
       "      <td>NaN</td>\n",
       "      <td>NaN</td>\n",
       "      <td>NaN</td>\n",
       "      <td>NaN</td>\n",
       "      <td>NaN</td>\n",
       "      <td>NaN</td>\n",
       "      <td>NaN</td>\n",
       "      <td>NaN</td>\n",
       "      <td>NaN</td>\n",
       "    </tr>\n",
       "    <tr>\n",
       "      <th>1</th>\n",
       "      <td>4530</td>\n",
       "      <td>http://world-en.openfoodfacts.org/product/0000...</td>\n",
       "      <td>usda-ndb-import</td>\n",
       "      <td>1489069957</td>\n",
       "      <td>2017-03-09T14:32:37Z</td>\n",
       "      <td>1489069957</td>\n",
       "      <td>2017-03-09T14:32:37Z</td>\n",
       "      <td>Banana Chips Sweetened (Whole)</td>\n",
       "      <td>NaN</td>\n",
       "      <td>NaN</td>\n",
       "      <td>...</td>\n",
       "      <td>NaN</td>\n",
       "      <td>NaN</td>\n",
       "      <td>NaN</td>\n",
       "      <td>NaN</td>\n",
       "      <td>NaN</td>\n",
       "      <td>NaN</td>\n",
       "      <td>14.0</td>\n",
       "      <td>14.0</td>\n",
       "      <td>NaN</td>\n",
       "      <td>NaN</td>\n",
       "    </tr>\n",
       "  </tbody>\n",
       "</table>\n",
       "<p>2 rows × 162 columns</p>\n",
       "</div>"
      ],
      "text/plain": [
       "   code                                                url  \\\n",
       "0  3087  http://world-en.openfoodfacts.org/product/0000...   \n",
       "1  4530  http://world-en.openfoodfacts.org/product/0000...   \n",
       "\n",
       "                      creator   created_t      created_datetime  \\\n",
       "0  openfoodfacts-contributors  1474103866  2016-09-17T09:17:46Z   \n",
       "1             usda-ndb-import  1489069957  2017-03-09T14:32:37Z   \n",
       "\n",
       "  last_modified_t last_modified_datetime                    product_name  \\\n",
       "0      1474103893   2016-09-17T09:18:13Z              Farine de blé noir   \n",
       "1      1489069957   2017-03-09T14:32:37Z  Banana Chips Sweetened (Whole)   \n",
       "\n",
       "  generic_name quantity         ...         ph_100g  \\\n",
       "0          NaN      1kg         ...             NaN   \n",
       "1          NaN      NaN         ...             NaN   \n",
       "\n",
       "  fruits-vegetables-nuts_100g collagen-meat-protein-ratio_100g cocoa_100g  \\\n",
       "0                         NaN                              NaN        NaN   \n",
       "1                         NaN                              NaN        NaN   \n",
       "\n",
       "  chlorophyl_100g carbon-footprint_100g nutrition-score-fr_100g  \\\n",
       "0             NaN                   NaN                     NaN   \n",
       "1             NaN                   NaN                    14.0   \n",
       "\n",
       "  nutrition-score-uk_100g glycemic-index_100g water-hardness_100g  \n",
       "0                     NaN                 NaN                 NaN  \n",
       "1                    14.0                 NaN                 NaN  \n",
       "\n",
       "[2 rows x 162 columns]"
      ]
     },
     "execution_count": 4,
     "metadata": {},
     "output_type": "execute_result"
    }
   ],
   "source": [
    "data.head(2)"
   ]
  },
  {
   "cell_type": "markdown",
   "metadata": {},
   "source": [
    "Lets set the options in such a way that all the rows and columns are displayed"
   ]
  },
  {
   "cell_type": "code",
   "execution_count": 5,
   "metadata": {
    "collapsed": true
   },
   "outputs": [],
   "source": [
    "# Print all rows and columns\n",
    "pd.set_option('display.max_columns', None)\n",
    "pd.set_option('display.max_rows', None)"
   ]
  },
  {
   "cell_type": "code",
   "execution_count": 6,
   "metadata": {
    "collapsed": false
   },
   "outputs": [
    {
     "data": {
      "text/html": [
       "<div>\n",
       "<table border=\"1\" class=\"dataframe\">\n",
       "  <thead>\n",
       "    <tr style=\"text-align: right;\">\n",
       "      <th></th>\n",
       "      <th>code</th>\n",
       "      <th>url</th>\n",
       "      <th>creator</th>\n",
       "      <th>created_t</th>\n",
       "      <th>created_datetime</th>\n",
       "      <th>last_modified_t</th>\n",
       "      <th>last_modified_datetime</th>\n",
       "      <th>product_name</th>\n",
       "      <th>generic_name</th>\n",
       "      <th>quantity</th>\n",
       "      <th>packaging</th>\n",
       "      <th>packaging_tags</th>\n",
       "      <th>brands</th>\n",
       "      <th>brands_tags</th>\n",
       "      <th>categories</th>\n",
       "      <th>categories_tags</th>\n",
       "      <th>categories_en</th>\n",
       "      <th>origins</th>\n",
       "      <th>origins_tags</th>\n",
       "      <th>manufacturing_places</th>\n",
       "      <th>manufacturing_places_tags</th>\n",
       "      <th>labels</th>\n",
       "      <th>labels_tags</th>\n",
       "      <th>labels_en</th>\n",
       "      <th>emb_codes</th>\n",
       "      <th>emb_codes_tags</th>\n",
       "      <th>first_packaging_code_geo</th>\n",
       "      <th>cities</th>\n",
       "      <th>cities_tags</th>\n",
       "      <th>purchase_places</th>\n",
       "      <th>stores</th>\n",
       "      <th>countries</th>\n",
       "      <th>countries_tags</th>\n",
       "      <th>countries_en</th>\n",
       "      <th>ingredients_text</th>\n",
       "      <th>allergens</th>\n",
       "      <th>allergens_en</th>\n",
       "      <th>traces</th>\n",
       "      <th>traces_tags</th>\n",
       "      <th>traces_en</th>\n",
       "      <th>serving_size</th>\n",
       "      <th>no_nutriments</th>\n",
       "      <th>additives_n</th>\n",
       "      <th>additives</th>\n",
       "      <th>additives_tags</th>\n",
       "      <th>additives_en</th>\n",
       "      <th>ingredients_from_palm_oil_n</th>\n",
       "      <th>ingredients_from_palm_oil</th>\n",
       "      <th>ingredients_from_palm_oil_tags</th>\n",
       "      <th>ingredients_that_may_be_from_palm_oil_n</th>\n",
       "      <th>ingredients_that_may_be_from_palm_oil</th>\n",
       "      <th>ingredients_that_may_be_from_palm_oil_tags</th>\n",
       "      <th>nutrition_grade_uk</th>\n",
       "      <th>nutrition_grade_fr</th>\n",
       "      <th>pnns_groups_1</th>\n",
       "      <th>pnns_groups_2</th>\n",
       "      <th>states</th>\n",
       "      <th>states_tags</th>\n",
       "      <th>states_en</th>\n",
       "      <th>main_category</th>\n",
       "      <th>main_category_en</th>\n",
       "      <th>image_url</th>\n",
       "      <th>image_small_url</th>\n",
       "      <th>energy_100g</th>\n",
       "      <th>energy-from-fat_100g</th>\n",
       "      <th>fat_100g</th>\n",
       "      <th>saturated-fat_100g</th>\n",
       "      <th>-butyric-acid_100g</th>\n",
       "      <th>-caproic-acid_100g</th>\n",
       "      <th>-caprylic-acid_100g</th>\n",
       "      <th>-capric-acid_100g</th>\n",
       "      <th>-lauric-acid_100g</th>\n",
       "      <th>-myristic-acid_100g</th>\n",
       "      <th>-palmitic-acid_100g</th>\n",
       "      <th>-stearic-acid_100g</th>\n",
       "      <th>-arachidic-acid_100g</th>\n",
       "      <th>-behenic-acid_100g</th>\n",
       "      <th>-lignoceric-acid_100g</th>\n",
       "      <th>-cerotic-acid_100g</th>\n",
       "      <th>-montanic-acid_100g</th>\n",
       "      <th>-melissic-acid_100g</th>\n",
       "      <th>monounsaturated-fat_100g</th>\n",
       "      <th>polyunsaturated-fat_100g</th>\n",
       "      <th>omega-3-fat_100g</th>\n",
       "      <th>-alpha-linolenic-acid_100g</th>\n",
       "      <th>-eicosapentaenoic-acid_100g</th>\n",
       "      <th>-docosahexaenoic-acid_100g</th>\n",
       "      <th>omega-6-fat_100g</th>\n",
       "      <th>-linoleic-acid_100g</th>\n",
       "      <th>-arachidonic-acid_100g</th>\n",
       "      <th>-gamma-linolenic-acid_100g</th>\n",
       "      <th>-dihomo-gamma-linolenic-acid_100g</th>\n",
       "      <th>omega-9-fat_100g</th>\n",
       "      <th>-oleic-acid_100g</th>\n",
       "      <th>-elaidic-acid_100g</th>\n",
       "      <th>-gondoic-acid_100g</th>\n",
       "      <th>-mead-acid_100g</th>\n",
       "      <th>-erucic-acid_100g</th>\n",
       "      <th>-nervonic-acid_100g</th>\n",
       "      <th>trans-fat_100g</th>\n",
       "      <th>cholesterol_100g</th>\n",
       "      <th>carbohydrates_100g</th>\n",
       "      <th>sugars_100g</th>\n",
       "      <th>-sucrose_100g</th>\n",
       "      <th>-glucose_100g</th>\n",
       "      <th>-fructose_100g</th>\n",
       "      <th>-lactose_100g</th>\n",
       "      <th>-maltose_100g</th>\n",
       "      <th>-maltodextrins_100g</th>\n",
       "      <th>starch_100g</th>\n",
       "      <th>polyols_100g</th>\n",
       "      <th>fiber_100g</th>\n",
       "      <th>proteins_100g</th>\n",
       "      <th>casein_100g</th>\n",
       "      <th>serum-proteins_100g</th>\n",
       "      <th>nucleotides_100g</th>\n",
       "      <th>salt_100g</th>\n",
       "      <th>sodium_100g</th>\n",
       "      <th>alcohol_100g</th>\n",
       "      <th>vitamin-a_100g</th>\n",
       "      <th>beta-carotene_100g</th>\n",
       "      <th>vitamin-d_100g</th>\n",
       "      <th>vitamin-e_100g</th>\n",
       "      <th>vitamin-k_100g</th>\n",
       "      <th>vitamin-c_100g</th>\n",
       "      <th>vitamin-b1_100g</th>\n",
       "      <th>vitamin-b2_100g</th>\n",
       "      <th>vitamin-pp_100g</th>\n",
       "      <th>vitamin-b6_100g</th>\n",
       "      <th>vitamin-b9_100g</th>\n",
       "      <th>folates_100g</th>\n",
       "      <th>vitamin-b12_100g</th>\n",
       "      <th>biotin_100g</th>\n",
       "      <th>pantothenic-acid_100g</th>\n",
       "      <th>silica_100g</th>\n",
       "      <th>bicarbonate_100g</th>\n",
       "      <th>potassium_100g</th>\n",
       "      <th>chloride_100g</th>\n",
       "      <th>calcium_100g</th>\n",
       "      <th>phosphorus_100g</th>\n",
       "      <th>iron_100g</th>\n",
       "      <th>magnesium_100g</th>\n",
       "      <th>zinc_100g</th>\n",
       "      <th>copper_100g</th>\n",
       "      <th>manganese_100g</th>\n",
       "      <th>fluoride_100g</th>\n",
       "      <th>selenium_100g</th>\n",
       "      <th>chromium_100g</th>\n",
       "      <th>molybdenum_100g</th>\n",
       "      <th>iodine_100g</th>\n",
       "      <th>caffeine_100g</th>\n",
       "      <th>taurine_100g</th>\n",
       "      <th>ph_100g</th>\n",
       "      <th>fruits-vegetables-nuts_100g</th>\n",
       "      <th>collagen-meat-protein-ratio_100g</th>\n",
       "      <th>cocoa_100g</th>\n",
       "      <th>chlorophyl_100g</th>\n",
       "      <th>carbon-footprint_100g</th>\n",
       "      <th>nutrition-score-fr_100g</th>\n",
       "      <th>nutrition-score-uk_100g</th>\n",
       "      <th>glycemic-index_100g</th>\n",
       "      <th>water-hardness_100g</th>\n",
       "    </tr>\n",
       "  </thead>\n",
       "  <tbody>\n",
       "    <tr>\n",
       "      <th>0</th>\n",
       "      <td>3087</td>\n",
       "      <td>http://world-en.openfoodfacts.org/product/0000...</td>\n",
       "      <td>openfoodfacts-contributors</td>\n",
       "      <td>1474103866</td>\n",
       "      <td>2016-09-17T09:17:46Z</td>\n",
       "      <td>1474103893</td>\n",
       "      <td>2016-09-17T09:18:13Z</td>\n",
       "      <td>Farine de blé noir</td>\n",
       "      <td>NaN</td>\n",
       "      <td>1kg</td>\n",
       "      <td>NaN</td>\n",
       "      <td>NaN</td>\n",
       "      <td>Ferme t'y R'nao</td>\n",
       "      <td>ferme-t-y-r-nao</td>\n",
       "      <td>NaN</td>\n",
       "      <td>NaN</td>\n",
       "      <td>NaN</td>\n",
       "      <td>NaN</td>\n",
       "      <td>NaN</td>\n",
       "      <td>NaN</td>\n",
       "      <td>NaN</td>\n",
       "      <td>NaN</td>\n",
       "      <td>NaN</td>\n",
       "      <td>NaN</td>\n",
       "      <td>NaN</td>\n",
       "      <td>NaN</td>\n",
       "      <td>NaN</td>\n",
       "      <td>NaN</td>\n",
       "      <td>NaN</td>\n",
       "      <td>NaN</td>\n",
       "      <td>NaN</td>\n",
       "      <td>en:FR</td>\n",
       "      <td>en:france</td>\n",
       "      <td>France</td>\n",
       "      <td>NaN</td>\n",
       "      <td>NaN</td>\n",
       "      <td>NaN</td>\n",
       "      <td>NaN</td>\n",
       "      <td>NaN</td>\n",
       "      <td>NaN</td>\n",
       "      <td>NaN</td>\n",
       "      <td>NaN</td>\n",
       "      <td>NaN</td>\n",
       "      <td>NaN</td>\n",
       "      <td>NaN</td>\n",
       "      <td>NaN</td>\n",
       "      <td>NaN</td>\n",
       "      <td>NaN</td>\n",
       "      <td>NaN</td>\n",
       "      <td>NaN</td>\n",
       "      <td>NaN</td>\n",
       "      <td>NaN</td>\n",
       "      <td>NaN</td>\n",
       "      <td>NaN</td>\n",
       "      <td>NaN</td>\n",
       "      <td>NaN</td>\n",
       "      <td>en:to-be-completed, en:nutrition-facts-to-be-c...</td>\n",
       "      <td>en:to-be-completed,en:nutrition-facts-to-be-co...</td>\n",
       "      <td>To be completed,Nutrition facts to be complete...</td>\n",
       "      <td>NaN</td>\n",
       "      <td>NaN</td>\n",
       "      <td>NaN</td>\n",
       "      <td>NaN</td>\n",
       "      <td>NaN</td>\n",
       "      <td>NaN</td>\n",
       "      <td>NaN</td>\n",
       "      <td>NaN</td>\n",
       "      <td>NaN</td>\n",
       "      <td>NaN</td>\n",
       "      <td>NaN</td>\n",
       "      <td>NaN</td>\n",
       "      <td>NaN</td>\n",
       "      <td>NaN</td>\n",
       "      <td>NaN</td>\n",
       "      <td>NaN</td>\n",
       "      <td>NaN</td>\n",
       "      <td>NaN</td>\n",
       "      <td>NaN</td>\n",
       "      <td>NaN</td>\n",
       "      <td>NaN</td>\n",
       "      <td>NaN</td>\n",
       "      <td>NaN</td>\n",
       "      <td>NaN</td>\n",
       "      <td>NaN</td>\n",
       "      <td>NaN</td>\n",
       "      <td>NaN</td>\n",
       "      <td>NaN</td>\n",
       "      <td>NaN</td>\n",
       "      <td>NaN</td>\n",
       "      <td>NaN</td>\n",
       "      <td>NaN</td>\n",
       "      <td>NaN</td>\n",
       "      <td>NaN</td>\n",
       "      <td>NaN</td>\n",
       "      <td>NaN</td>\n",
       "      <td>NaN</td>\n",
       "      <td>NaN</td>\n",
       "      <td>NaN</td>\n",
       "      <td>NaN</td>\n",
       "      <td>NaN</td>\n",
       "      <td>NaN</td>\n",
       "      <td>NaN</td>\n",
       "      <td>NaN</td>\n",
       "      <td>NaN</td>\n",
       "      <td>NaN</td>\n",
       "      <td>NaN</td>\n",
       "      <td>NaN</td>\n",
       "      <td>NaN</td>\n",
       "      <td>NaN</td>\n",
       "      <td>NaN</td>\n",
       "      <td>NaN</td>\n",
       "      <td>NaN</td>\n",
       "      <td>NaN</td>\n",
       "      <td>NaN</td>\n",
       "      <td>NaN</td>\n",
       "      <td>NaN</td>\n",
       "      <td>NaN</td>\n",
       "      <td>NaN</td>\n",
       "      <td>NaN</td>\n",
       "      <td>NaN</td>\n",
       "      <td>NaN</td>\n",
       "      <td>NaN</td>\n",
       "      <td>NaN</td>\n",
       "      <td>NaN</td>\n",
       "      <td>NaN</td>\n",
       "      <td>NaN</td>\n",
       "      <td>NaN</td>\n",
       "      <td>NaN</td>\n",
       "      <td>NaN</td>\n",
       "      <td>NaN</td>\n",
       "      <td>NaN</td>\n",
       "      <td>NaN</td>\n",
       "      <td>NaN</td>\n",
       "      <td>NaN</td>\n",
       "      <td>NaN</td>\n",
       "      <td>NaN</td>\n",
       "      <td>NaN</td>\n",
       "      <td>NaN</td>\n",
       "      <td>NaN</td>\n",
       "      <td>NaN</td>\n",
       "      <td>NaN</td>\n",
       "      <td>NaN</td>\n",
       "      <td>NaN</td>\n",
       "      <td>NaN</td>\n",
       "      <td>NaN</td>\n",
       "      <td>NaN</td>\n",
       "      <td>NaN</td>\n",
       "      <td>NaN</td>\n",
       "      <td>NaN</td>\n",
       "      <td>NaN</td>\n",
       "      <td>NaN</td>\n",
       "      <td>NaN</td>\n",
       "      <td>NaN</td>\n",
       "      <td>NaN</td>\n",
       "      <td>NaN</td>\n",
       "      <td>NaN</td>\n",
       "      <td>NaN</td>\n",
       "      <td>NaN</td>\n",
       "      <td>NaN</td>\n",
       "      <td>NaN</td>\n",
       "      <td>NaN</td>\n",
       "      <td>NaN</td>\n",
       "    </tr>\n",
       "    <tr>\n",
       "      <th>1</th>\n",
       "      <td>4530</td>\n",
       "      <td>http://world-en.openfoodfacts.org/product/0000...</td>\n",
       "      <td>usda-ndb-import</td>\n",
       "      <td>1489069957</td>\n",
       "      <td>2017-03-09T14:32:37Z</td>\n",
       "      <td>1489069957</td>\n",
       "      <td>2017-03-09T14:32:37Z</td>\n",
       "      <td>Banana Chips Sweetened (Whole)</td>\n",
       "      <td>NaN</td>\n",
       "      <td>NaN</td>\n",
       "      <td>NaN</td>\n",
       "      <td>NaN</td>\n",
       "      <td>NaN</td>\n",
       "      <td>NaN</td>\n",
       "      <td>NaN</td>\n",
       "      <td>NaN</td>\n",
       "      <td>NaN</td>\n",
       "      <td>NaN</td>\n",
       "      <td>NaN</td>\n",
       "      <td>NaN</td>\n",
       "      <td>NaN</td>\n",
       "      <td>NaN</td>\n",
       "      <td>NaN</td>\n",
       "      <td>NaN</td>\n",
       "      <td>NaN</td>\n",
       "      <td>NaN</td>\n",
       "      <td>NaN</td>\n",
       "      <td>NaN</td>\n",
       "      <td>NaN</td>\n",
       "      <td>NaN</td>\n",
       "      <td>NaN</td>\n",
       "      <td>US</td>\n",
       "      <td>en:united-states</td>\n",
       "      <td>United States</td>\n",
       "      <td>Bananas, vegetable oil (coconut oil, corn oil ...</td>\n",
       "      <td>NaN</td>\n",
       "      <td>NaN</td>\n",
       "      <td>NaN</td>\n",
       "      <td>NaN</td>\n",
       "      <td>NaN</td>\n",
       "      <td>28 g (1 ONZ)</td>\n",
       "      <td>NaN</td>\n",
       "      <td>0.0</td>\n",
       "      <td>[ bananas -&gt; en:bananas  ]  [ vegetable-oil -...</td>\n",
       "      <td>NaN</td>\n",
       "      <td>NaN</td>\n",
       "      <td>0.0</td>\n",
       "      <td>NaN</td>\n",
       "      <td>NaN</td>\n",
       "      <td>0.0</td>\n",
       "      <td>NaN</td>\n",
       "      <td>NaN</td>\n",
       "      <td>NaN</td>\n",
       "      <td>d</td>\n",
       "      <td>NaN</td>\n",
       "      <td>NaN</td>\n",
       "      <td>en:to-be-completed, en:nutrition-facts-complet...</td>\n",
       "      <td>en:to-be-completed,en:nutrition-facts-complete...</td>\n",
       "      <td>To be completed,Nutrition facts completed,Ingr...</td>\n",
       "      <td>NaN</td>\n",
       "      <td>NaN</td>\n",
       "      <td>NaN</td>\n",
       "      <td>NaN</td>\n",
       "      <td>2243.0</td>\n",
       "      <td>NaN</td>\n",
       "      <td>28.57</td>\n",
       "      <td>28.57</td>\n",
       "      <td>NaN</td>\n",
       "      <td>NaN</td>\n",
       "      <td>NaN</td>\n",
       "      <td>NaN</td>\n",
       "      <td>NaN</td>\n",
       "      <td>NaN</td>\n",
       "      <td>NaN</td>\n",
       "      <td>NaN</td>\n",
       "      <td>NaN</td>\n",
       "      <td>NaN</td>\n",
       "      <td>NaN</td>\n",
       "      <td>NaN</td>\n",
       "      <td>NaN</td>\n",
       "      <td>NaN</td>\n",
       "      <td>NaN</td>\n",
       "      <td>NaN</td>\n",
       "      <td>NaN</td>\n",
       "      <td>NaN</td>\n",
       "      <td>NaN</td>\n",
       "      <td>NaN</td>\n",
       "      <td>NaN</td>\n",
       "      <td>NaN</td>\n",
       "      <td>NaN</td>\n",
       "      <td>NaN</td>\n",
       "      <td>NaN</td>\n",
       "      <td>NaN</td>\n",
       "      <td>NaN</td>\n",
       "      <td>NaN</td>\n",
       "      <td>NaN</td>\n",
       "      <td>NaN</td>\n",
       "      <td>NaN</td>\n",
       "      <td>NaN</td>\n",
       "      <td>0.0</td>\n",
       "      <td>0.018</td>\n",
       "      <td>64.29</td>\n",
       "      <td>14.29</td>\n",
       "      <td>NaN</td>\n",
       "      <td>NaN</td>\n",
       "      <td>NaN</td>\n",
       "      <td>NaN</td>\n",
       "      <td>NaN</td>\n",
       "      <td>NaN</td>\n",
       "      <td>NaN</td>\n",
       "      <td>NaN</td>\n",
       "      <td>3.6</td>\n",
       "      <td>3.57</td>\n",
       "      <td>NaN</td>\n",
       "      <td>NaN</td>\n",
       "      <td>NaN</td>\n",
       "      <td>0.0</td>\n",
       "      <td>0.0</td>\n",
       "      <td>NaN</td>\n",
       "      <td>0.0</td>\n",
       "      <td>NaN</td>\n",
       "      <td>NaN</td>\n",
       "      <td>NaN</td>\n",
       "      <td>NaN</td>\n",
       "      <td>0.0214</td>\n",
       "      <td>NaN</td>\n",
       "      <td>NaN</td>\n",
       "      <td>NaN</td>\n",
       "      <td>NaN</td>\n",
       "      <td>NaN</td>\n",
       "      <td>NaN</td>\n",
       "      <td>NaN</td>\n",
       "      <td>NaN</td>\n",
       "      <td>NaN</td>\n",
       "      <td>NaN</td>\n",
       "      <td>NaN</td>\n",
       "      <td>NaN</td>\n",
       "      <td>NaN</td>\n",
       "      <td>0.0</td>\n",
       "      <td>NaN</td>\n",
       "      <td>0.00129</td>\n",
       "      <td>NaN</td>\n",
       "      <td>NaN</td>\n",
       "      <td>NaN</td>\n",
       "      <td>NaN</td>\n",
       "      <td>NaN</td>\n",
       "      <td>NaN</td>\n",
       "      <td>NaN</td>\n",
       "      <td>NaN</td>\n",
       "      <td>NaN</td>\n",
       "      <td>NaN</td>\n",
       "      <td>NaN</td>\n",
       "      <td>NaN</td>\n",
       "      <td>NaN</td>\n",
       "      <td>NaN</td>\n",
       "      <td>NaN</td>\n",
       "      <td>NaN</td>\n",
       "      <td>NaN</td>\n",
       "      <td>14.0</td>\n",
       "      <td>14.0</td>\n",
       "      <td>NaN</td>\n",
       "      <td>NaN</td>\n",
       "    </tr>\n",
       "  </tbody>\n",
       "</table>\n",
       "</div>"
      ],
      "text/plain": [
       "   code                                                url  \\\n",
       "0  3087  http://world-en.openfoodfacts.org/product/0000...   \n",
       "1  4530  http://world-en.openfoodfacts.org/product/0000...   \n",
       "\n",
       "                      creator   created_t      created_datetime  \\\n",
       "0  openfoodfacts-contributors  1474103866  2016-09-17T09:17:46Z   \n",
       "1             usda-ndb-import  1489069957  2017-03-09T14:32:37Z   \n",
       "\n",
       "  last_modified_t last_modified_datetime                    product_name  \\\n",
       "0      1474103893   2016-09-17T09:18:13Z              Farine de blé noir   \n",
       "1      1489069957   2017-03-09T14:32:37Z  Banana Chips Sweetened (Whole)   \n",
       "\n",
       "  generic_name quantity packaging packaging_tags           brands  \\\n",
       "0          NaN      1kg       NaN            NaN  Ferme t'y R'nao   \n",
       "1          NaN      NaN       NaN            NaN              NaN   \n",
       "\n",
       "       brands_tags categories categories_tags categories_en origins  \\\n",
       "0  ferme-t-y-r-nao        NaN             NaN           NaN     NaN   \n",
       "1              NaN        NaN             NaN           NaN     NaN   \n",
       "\n",
       "  origins_tags manufacturing_places manufacturing_places_tags labels  \\\n",
       "0          NaN                  NaN                       NaN    NaN   \n",
       "1          NaN                  NaN                       NaN    NaN   \n",
       "\n",
       "  labels_tags labels_en emb_codes emb_codes_tags first_packaging_code_geo  \\\n",
       "0         NaN       NaN       NaN            NaN                      NaN   \n",
       "1         NaN       NaN       NaN            NaN                      NaN   \n",
       "\n",
       "  cities cities_tags purchase_places stores countries    countries_tags  \\\n",
       "0    NaN         NaN             NaN    NaN     en:FR         en:france   \n",
       "1    NaN         NaN             NaN    NaN        US  en:united-states   \n",
       "\n",
       "    countries_en                                   ingredients_text allergens  \\\n",
       "0         France                                                NaN       NaN   \n",
       "1  United States  Bananas, vegetable oil (coconut oil, corn oil ...       NaN   \n",
       "\n",
       "  allergens_en traces traces_tags traces_en  serving_size  no_nutriments  \\\n",
       "0          NaN    NaN         NaN       NaN           NaN            NaN   \n",
       "1          NaN    NaN         NaN       NaN  28 g (1 ONZ)            NaN   \n",
       "\n",
       "   additives_n                                          additives  \\\n",
       "0          NaN                                                NaN   \n",
       "1          0.0   [ bananas -> en:bananas  ]  [ vegetable-oil -...   \n",
       "\n",
       "  additives_tags additives_en  ingredients_from_palm_oil_n  \\\n",
       "0            NaN          NaN                          NaN   \n",
       "1            NaN          NaN                          0.0   \n",
       "\n",
       "   ingredients_from_palm_oil ingredients_from_palm_oil_tags  \\\n",
       "0                        NaN                            NaN   \n",
       "1                        NaN                            NaN   \n",
       "\n",
       "   ingredients_that_may_be_from_palm_oil_n  \\\n",
       "0                                      NaN   \n",
       "1                                      0.0   \n",
       "\n",
       "   ingredients_that_may_be_from_palm_oil  \\\n",
       "0                                    NaN   \n",
       "1                                    NaN   \n",
       "\n",
       "  ingredients_that_may_be_from_palm_oil_tags  nutrition_grade_uk  \\\n",
       "0                                        NaN                 NaN   \n",
       "1                                        NaN                 NaN   \n",
       "\n",
       "  nutrition_grade_fr pnns_groups_1 pnns_groups_2  \\\n",
       "0                NaN           NaN           NaN   \n",
       "1                  d           NaN           NaN   \n",
       "\n",
       "                                              states  \\\n",
       "0  en:to-be-completed, en:nutrition-facts-to-be-c...   \n",
       "1  en:to-be-completed, en:nutrition-facts-complet...   \n",
       "\n",
       "                                         states_tags  \\\n",
       "0  en:to-be-completed,en:nutrition-facts-to-be-co...   \n",
       "1  en:to-be-completed,en:nutrition-facts-complete...   \n",
       "\n",
       "                                           states_en main_category  \\\n",
       "0  To be completed,Nutrition facts to be complete...           NaN   \n",
       "1  To be completed,Nutrition facts completed,Ingr...           NaN   \n",
       "\n",
       "  main_category_en image_url image_small_url  energy_100g  \\\n",
       "0              NaN       NaN             NaN          NaN   \n",
       "1              NaN       NaN             NaN       2243.0   \n",
       "\n",
       "   energy-from-fat_100g  fat_100g  saturated-fat_100g  -butyric-acid_100g  \\\n",
       "0                   NaN       NaN                 NaN                 NaN   \n",
       "1                   NaN     28.57               28.57                 NaN   \n",
       "\n",
       "   -caproic-acid_100g  -caprylic-acid_100g  -capric-acid_100g  \\\n",
       "0                 NaN                  NaN                NaN   \n",
       "1                 NaN                  NaN                NaN   \n",
       "\n",
       "   -lauric-acid_100g  -myristic-acid_100g  -palmitic-acid_100g  \\\n",
       "0                NaN                  NaN                  NaN   \n",
       "1                NaN                  NaN                  NaN   \n",
       "\n",
       "   -stearic-acid_100g  -arachidic-acid_100g  -behenic-acid_100g  \\\n",
       "0                 NaN                   NaN                 NaN   \n",
       "1                 NaN                   NaN                 NaN   \n",
       "\n",
       "   -lignoceric-acid_100g  -cerotic-acid_100g  -montanic-acid_100g  \\\n",
       "0                    NaN                 NaN                  NaN   \n",
       "1                    NaN                 NaN                  NaN   \n",
       "\n",
       "   -melissic-acid_100g  monounsaturated-fat_100g  polyunsaturated-fat_100g  \\\n",
       "0                  NaN                       NaN                       NaN   \n",
       "1                  NaN                       NaN                       NaN   \n",
       "\n",
       "   omega-3-fat_100g  -alpha-linolenic-acid_100g  -eicosapentaenoic-acid_100g  \\\n",
       "0               NaN                         NaN                          NaN   \n",
       "1               NaN                         NaN                          NaN   \n",
       "\n",
       "   -docosahexaenoic-acid_100g  omega-6-fat_100g  -linoleic-acid_100g  \\\n",
       "0                         NaN               NaN                  NaN   \n",
       "1                         NaN               NaN                  NaN   \n",
       "\n",
       "   -arachidonic-acid_100g  -gamma-linolenic-acid_100g  \\\n",
       "0                     NaN                         NaN   \n",
       "1                     NaN                         NaN   \n",
       "\n",
       "   -dihomo-gamma-linolenic-acid_100g  omega-9-fat_100g  -oleic-acid_100g  \\\n",
       "0                                NaN               NaN               NaN   \n",
       "1                                NaN               NaN               NaN   \n",
       "\n",
       "   -elaidic-acid_100g  -gondoic-acid_100g  -mead-acid_100g  -erucic-acid_100g  \\\n",
       "0                 NaN                 NaN              NaN                NaN   \n",
       "1                 NaN                 NaN              NaN                NaN   \n",
       "\n",
       "   -nervonic-acid_100g  trans-fat_100g  cholesterol_100g  carbohydrates_100g  \\\n",
       "0                  NaN             NaN               NaN                 NaN   \n",
       "1                  NaN             0.0             0.018               64.29   \n",
       "\n",
       "   sugars_100g  -sucrose_100g  -glucose_100g  -fructose_100g  -lactose_100g  \\\n",
       "0          NaN            NaN            NaN             NaN            NaN   \n",
       "1        14.29            NaN            NaN             NaN            NaN   \n",
       "\n",
       "   -maltose_100g  -maltodextrins_100g  starch_100g  polyols_100g  fiber_100g  \\\n",
       "0            NaN                  NaN          NaN           NaN         NaN   \n",
       "1            NaN                  NaN          NaN           NaN         3.6   \n",
       "\n",
       "   proteins_100g  casein_100g  serum-proteins_100g  nucleotides_100g  \\\n",
       "0            NaN          NaN                  NaN               NaN   \n",
       "1           3.57          NaN                  NaN               NaN   \n",
       "\n",
       "   salt_100g  sodium_100g  alcohol_100g  vitamin-a_100g  beta-carotene_100g  \\\n",
       "0        NaN          NaN           NaN             NaN                 NaN   \n",
       "1        0.0          0.0           NaN             0.0                 NaN   \n",
       "\n",
       "   vitamin-d_100g  vitamin-e_100g  vitamin-k_100g  vitamin-c_100g  \\\n",
       "0             NaN             NaN             NaN             NaN   \n",
       "1             NaN             NaN             NaN          0.0214   \n",
       "\n",
       "   vitamin-b1_100g  vitamin-b2_100g  vitamin-pp_100g  vitamin-b6_100g  \\\n",
       "0              NaN              NaN              NaN              NaN   \n",
       "1              NaN              NaN              NaN              NaN   \n",
       "\n",
       "   vitamin-b9_100g  folates_100g  vitamin-b12_100g  biotin_100g  \\\n",
       "0              NaN           NaN               NaN          NaN   \n",
       "1              NaN           NaN               NaN          NaN   \n",
       "\n",
       "   pantothenic-acid_100g  silica_100g  bicarbonate_100g  potassium_100g  \\\n",
       "0                    NaN          NaN               NaN             NaN   \n",
       "1                    NaN          NaN               NaN             NaN   \n",
       "\n",
       "   chloride_100g  calcium_100g  phosphorus_100g  iron_100g  magnesium_100g  \\\n",
       "0            NaN           NaN              NaN        NaN             NaN   \n",
       "1            NaN           0.0              NaN    0.00129             NaN   \n",
       "\n",
       "   zinc_100g  copper_100g  manganese_100g  fluoride_100g  selenium_100g  \\\n",
       "0        NaN          NaN             NaN            NaN            NaN   \n",
       "1        NaN          NaN             NaN            NaN            NaN   \n",
       "\n",
       "   chromium_100g  molybdenum_100g  iodine_100g  caffeine_100g  taurine_100g  \\\n",
       "0            NaN              NaN          NaN            NaN           NaN   \n",
       "1            NaN              NaN          NaN            NaN           NaN   \n",
       "\n",
       "   ph_100g  fruits-vegetables-nuts_100g  collagen-meat-protein-ratio_100g  \\\n",
       "0      NaN                          NaN                               NaN   \n",
       "1      NaN                          NaN                               NaN   \n",
       "\n",
       "   cocoa_100g  chlorophyl_100g  carbon-footprint_100g  \\\n",
       "0         NaN              NaN                    NaN   \n",
       "1         NaN              NaN                    NaN   \n",
       "\n",
       "   nutrition-score-fr_100g  nutrition-score-uk_100g  glycemic-index_100g  \\\n",
       "0                      NaN                      NaN                  NaN   \n",
       "1                     14.0                     14.0                  NaN   \n",
       "\n",
       "   water-hardness_100g  \n",
       "0                  NaN  \n",
       "1                  NaN  "
      ]
     },
     "execution_count": 6,
     "metadata": {},
     "output_type": "execute_result"
    }
   ],
   "source": [
    "data.head(2)"
   ]
  },
  {
   "cell_type": "code",
   "execution_count": 7,
   "metadata": {
    "collapsed": false
   },
   "outputs": [
    {
     "data": {
      "text/plain": [
       "'0.76'"
      ]
     },
     "execution_count": 7,
     "metadata": {},
     "output_type": "execute_result"
    }
   ],
   "source": [
    "# how much percentage of missing values are there\n",
    "format(round(data.isnull().values.ravel().sum()/(data.shape[0] * data.shape[1]), 2))"
   ]
  },
  {
   "cell_type": "code",
   "execution_count": 8,
   "metadata": {
    "collapsed": false
   },
   "outputs": [
    {
     "data": {
      "text/plain": [
       "float64    106\n",
       "object      56\n",
       "dtype: int64"
      ]
     },
     "execution_count": 8,
     "metadata": {},
     "output_type": "execute_result"
    }
   ],
   "source": [
    "# how many categorical and continuous features are there in the data\n",
    "data.get_dtype_counts()"
   ]
  },
  {
   "cell_type": "code",
   "execution_count": 9,
   "metadata": {
    "collapsed": false
   },
   "outputs": [
    {
     "name": "stdout",
     "output_type": "stream",
     "text": [
      "<class 'pandas.core.frame.DataFrame'>\n",
      "RangeIndex: 333824 entries, 0 to 333823\n",
      "Columns: 162 entries, code to water-hardness_100g\n",
      "dtypes: float64(106), object(56)\n",
      "memory usage: 412.6+ MB\n"
     ]
    }
   ],
   "source": [
    "data.info() #it will also show the memory usage"
   ]
  },
  {
   "cell_type": "code",
   "execution_count": 24,
   "metadata": {
    "collapsed": false
   },
   "outputs": [],
   "source": [
    "# Lets explore the countries features\n",
    "countries_columns = ['countries','countries_tags','countries_en']"
   ]
  },
  {
   "cell_type": "code",
   "execution_count": 11,
   "metadata": {
    "collapsed": false
   },
   "outputs": [
    {
     "data": {
      "text/html": [
       "<div>\n",
       "<table border=\"1\" class=\"dataframe\">\n",
       "  <thead>\n",
       "    <tr style=\"text-align: right;\">\n",
       "      <th></th>\n",
       "      <th>countries</th>\n",
       "      <th>countries_tags</th>\n",
       "      <th>countries_en</th>\n",
       "    </tr>\n",
       "  </thead>\n",
       "  <tbody>\n",
       "    <tr>\n",
       "      <th>0</th>\n",
       "      <td>en:FR</td>\n",
       "      <td>en:france</td>\n",
       "      <td>France</td>\n",
       "    </tr>\n",
       "    <tr>\n",
       "      <th>1</th>\n",
       "      <td>US</td>\n",
       "      <td>en:united-states</td>\n",
       "      <td>United States</td>\n",
       "    </tr>\n",
       "    <tr>\n",
       "      <th>2</th>\n",
       "      <td>US</td>\n",
       "      <td>en:united-states</td>\n",
       "      <td>United States</td>\n",
       "    </tr>\n",
       "    <tr>\n",
       "      <th>3</th>\n",
       "      <td>US</td>\n",
       "      <td>en:united-states</td>\n",
       "      <td>United States</td>\n",
       "    </tr>\n",
       "    <tr>\n",
       "      <th>4</th>\n",
       "      <td>US</td>\n",
       "      <td>en:united-states</td>\n",
       "      <td>United States</td>\n",
       "    </tr>\n",
       "  </tbody>\n",
       "</table>\n",
       "</div>"
      ],
      "text/plain": [
       "  countries    countries_tags   countries_en\n",
       "0     en:FR         en:france         France\n",
       "1        US  en:united-states  United States\n",
       "2        US  en:united-states  United States\n",
       "3        US  en:united-states  United States\n",
       "4        US  en:united-states  United States"
      ]
     },
     "execution_count": 11,
     "metadata": {},
     "output_type": "execute_result"
    }
   ],
   "source": [
    "data[countries_columns].head()"
   ]
  },
  {
   "cell_type": "markdown",
   "metadata": {},
   "source": [
    "We will convert the countries_en field into lower case so as to maintain uniformity"
   ]
  },
  {
   "cell_type": "code",
   "execution_count": 12,
   "metadata": {
    "collapsed": true
   },
   "outputs": [],
   "source": [
    "data['countries_en'] = data['countries_en'].str.lower()"
   ]
  },
  {
   "cell_type": "code",
   "execution_count": 13,
   "metadata": {
    "collapsed": false
   },
   "outputs": [
    {
     "data": {
      "text/plain": [
       "0           france\n",
       "1    united states\n",
       "2    united states\n",
       "3    united states\n",
       "4    united states\n",
       "Name: countries_en, dtype: object"
      ]
     },
     "execution_count": 13,
     "metadata": {},
     "output_type": "execute_result"
    }
   ],
   "source": [
    "data['countries_en'].head()"
   ]
  },
  {
   "cell_type": "markdown",
   "metadata": {},
   "source": [
    "Lets see if the below approach can detect all the unique cells which contain united states"
   ]
  },
  {
   "cell_type": "code",
   "execution_count": 14,
   "metadata": {
    "collapsed": false
   },
   "outputs": [
    {
     "data": {
      "text/plain": [
       "array([nan, 'united states', 'united states,australie',\n",
       "       'united states,pays-bas', 'united states,belgie,nederland',\n",
       "       'united states,niederlande', 'united states,香港',\n",
       "       'united states,virgin islands of the united states',\n",
       "       'united states,scotland,south-wales,vienna',\n",
       "       'united states,other-日本,日本', 'united states,szczecin',\n",
       "       'united states,yemen', 'united states,nederland',\n",
       "       'united states,казахстан'], dtype=object)"
      ]
     },
     "execution_count": 14,
     "metadata": {},
     "output_type": "execute_result"
    }
   ],
   "source": [
    "data.countries_en.str.extract(r\"(united states.*)\").unique()"
   ]
  },
  {
   "cell_type": "markdown",
   "metadata": {},
   "source": [
    "Yes the above approach would return all the rows containing united states"
   ]
  },
  {
   "cell_type": "code",
   "execution_count": 15,
   "metadata": {
    "collapsed": false
   },
   "outputs": [
    {
     "data": {
      "text/plain": [
       "265"
      ]
     },
     "execution_count": 15,
     "metadata": {},
     "output_type": "execute_result"
    }
   ],
   "source": [
    "data['countries_en'].isnull().values.ravel().sum()"
   ]
  },
  {
   "cell_type": "markdown",
   "metadata": {},
   "source": [
    "Lets remove the rows which contan NA values in countries_en variable of the dataset"
   ]
  },
  {
   "cell_type": "code",
   "execution_count": 16,
   "metadata": {
    "collapsed": false
   },
   "outputs": [
    {
     "data": {
      "text/plain": [
       "0"
      ]
     },
     "execution_count": 16,
     "metadata": {},
     "output_type": "execute_result"
    }
   ],
   "source": [
    "data = data[data.countries_en.notnull()]\n",
    "data['countries_en'].isnull().values.ravel().sum()"
   ]
  },
  {
   "cell_type": "markdown",
   "metadata": {},
   "source": [
    "We will create a dict which will contain the dataframes of various countries which will primarily be United States, India, France, United Kingdom, Spain, Australia, Brazil"
   ]
  },
  {
   "cell_type": "code",
   "execution_count": 17,
   "metadata": {
    "collapsed": false,
    "scrolled": true
   },
   "outputs": [],
   "source": [
    "dataset= {}\n",
    "dataset['us'] = data[data['countries_en'].str.contains(\"united states\")]\n",
    "dataset['india'] = data[data['countries_en'].str.contains(\"india\")]\n",
    "dataset['france'] = data[data['countries_en'].str.contains(\"france\")]\n",
    "dataset['uk'] = data[data['countries_en'].str.contains(\"united kingdom\")]\n",
    "dataset['spain'] = data[data['countries_en'].str.contains(\"spain\")]\n",
    "dataset['aus'] = data[data['countries_en'].str.contains(\"australia\")]\n",
    "dataset['brazil'] = data[data['countries_en'].str.contains(\"brazil\")]"
   ]
  },
  {
   "cell_type": "markdown",
   "metadata": {},
   "source": [
    "We will compare the mean values of energy_100g, fat_100g, cholesterol_100g, nutrition_score_fr_100g fro these seven countries listed above"
   ]
  },
  {
   "cell_type": "code",
   "execution_count": 18,
   "metadata": {
    "collapsed": false
   },
   "outputs": [],
   "source": [
    "country_food_info_values = []"
   ]
  },
  {
   "cell_type": "code",
   "execution_count": 19,
   "metadata": {
    "collapsed": false
   },
   "outputs": [],
   "source": [
    "for key in dataset.keys():\n",
    "    country_food_info_values.append([key, \n",
    "                             round(dataset[key]['energy_100g'].mean(), 2),\n",
    "                             round(dataset[key]['fat_100g'].mean(), 2),\n",
    "                             round(dataset[key]['cholesterol_100g'].mean(), 2),\n",
    "                             round(dataset[key]['nutrition-score-fr_100g'].mean(), 2)]\n",
    "                            )"
   ]
  },
  {
   "cell_type": "code",
   "execution_count": 20,
   "metadata": {
    "collapsed": false
   },
   "outputs": [
    {
     "data": {
      "text/plain": [
       "[['us', 1133.67, 12.41, 0.02, 9.44],\n",
       " ['india', 1089.48, 15.95, 0.01, 13.29],\n",
       " ['france', 1169.98, 13.38, 0.04, 8.75],\n",
       " ['uk', 1124.83, 13.98, 0.01, 8.22],\n",
       " ['spain', 1069.44, 13.21, 0.0, 6.12],\n",
       " ['aus', 1006.9, 11.44, 0.0, 8.46],\n",
       " ['brazil', 1274.44, 12.17, 0.01, 10.11]]"
      ]
     },
     "execution_count": 20,
     "metadata": {},
     "output_type": "execute_result"
    }
   ],
   "source": [
    "country_food_info_values"
   ]
  },
  {
   "cell_type": "markdown",
   "metadata": {},
   "source": [
    "Lets convert the above array into a dataframe"
   ]
  },
  {
   "cell_type": "code",
   "execution_count": 21,
   "metadata": {
    "collapsed": true
   },
   "outputs": [],
   "source": [
    "country_food_info = pd.DataFrame(country_food_info_values, columns=['country','energy_100g', 'fat_100g', 'cholesterol_100g', 'nutrition_score_fr_100g'])"
   ]
  },
  {
   "cell_type": "code",
   "execution_count": 22,
   "metadata": {
    "collapsed": false
   },
   "outputs": [
    {
     "data": {
      "text/html": [
       "<div>\n",
       "<table border=\"1\" class=\"dataframe\">\n",
       "  <thead>\n",
       "    <tr style=\"text-align: right;\">\n",
       "      <th></th>\n",
       "      <th>country</th>\n",
       "      <th>energy_100g</th>\n",
       "      <th>fat_100g</th>\n",
       "      <th>cholesterol_100g</th>\n",
       "      <th>nutrition_score_fr_100g</th>\n",
       "    </tr>\n",
       "  </thead>\n",
       "  <tbody>\n",
       "    <tr>\n",
       "      <th>0</th>\n",
       "      <td>us</td>\n",
       "      <td>1133.67</td>\n",
       "      <td>12.41</td>\n",
       "      <td>0.02</td>\n",
       "      <td>9.44</td>\n",
       "    </tr>\n",
       "    <tr>\n",
       "      <th>1</th>\n",
       "      <td>india</td>\n",
       "      <td>1089.48</td>\n",
       "      <td>15.95</td>\n",
       "      <td>0.01</td>\n",
       "      <td>13.29</td>\n",
       "    </tr>\n",
       "    <tr>\n",
       "      <th>2</th>\n",
       "      <td>france</td>\n",
       "      <td>1169.98</td>\n",
       "      <td>13.38</td>\n",
       "      <td>0.04</td>\n",
       "      <td>8.75</td>\n",
       "    </tr>\n",
       "    <tr>\n",
       "      <th>3</th>\n",
       "      <td>uk</td>\n",
       "      <td>1124.83</td>\n",
       "      <td>13.98</td>\n",
       "      <td>0.01</td>\n",
       "      <td>8.22</td>\n",
       "    </tr>\n",
       "    <tr>\n",
       "      <th>4</th>\n",
       "      <td>spain</td>\n",
       "      <td>1069.44</td>\n",
       "      <td>13.21</td>\n",
       "      <td>0.00</td>\n",
       "      <td>6.12</td>\n",
       "    </tr>\n",
       "    <tr>\n",
       "      <th>5</th>\n",
       "      <td>aus</td>\n",
       "      <td>1006.90</td>\n",
       "      <td>11.44</td>\n",
       "      <td>0.00</td>\n",
       "      <td>8.46</td>\n",
       "    </tr>\n",
       "    <tr>\n",
       "      <th>6</th>\n",
       "      <td>brazil</td>\n",
       "      <td>1274.44</td>\n",
       "      <td>12.17</td>\n",
       "      <td>0.01</td>\n",
       "      <td>10.11</td>\n",
       "    </tr>\n",
       "  </tbody>\n",
       "</table>\n",
       "</div>"
      ],
      "text/plain": [
       "  country  energy_100g  fat_100g  cholesterol_100g  nutrition_score_fr_100g\n",
       "0      us      1133.67     12.41              0.02                     9.44\n",
       "1   india      1089.48     15.95              0.01                    13.29\n",
       "2  france      1169.98     13.38              0.04                     8.75\n",
       "3      uk      1124.83     13.98              0.01                     8.22\n",
       "4   spain      1069.44     13.21              0.00                     6.12\n",
       "5     aus      1006.90     11.44              0.00                     8.46\n",
       "6  brazil      1274.44     12.17              0.01                    10.11"
      ]
     },
     "execution_count": 22,
     "metadata": {},
     "output_type": "execute_result"
    }
   ],
   "source": [
    "country_food_info"
   ]
  },
  {
   "cell_type": "code",
   "execution_count": 23,
   "metadata": {
    "collapsed": false,
    "scrolled": false
   },
   "outputs": [
    {
     "data": {
      "image/png": "[encoded data removed]",
      "text/plain": [
       "<matplotlib.figure.Figure at 0x4031b076a0>"
      ]
     },
     "metadata": {},
     "output_type": "display_data"
    }
   ],
   "source": [
    "#Lets plot the meann values for the seven countries below\n",
    "columns=['energy_100g', 'fat_100g', 'cholesterol_100g', 'nutrition_score_fr_100g']\n",
    "\n",
    "fig, axis = plt.subplots(4,1,figsize=[20,20])\n",
    "\n",
    "for i, col in enumerate(columns):\n",
    "    sns.barplot(x= 'country', y = col, data = country_food_info, ax = axis[i])\n",
    "                         "
   ]
  },
  {
   "cell_type": "markdown",
   "metadata": {},
   "source": [
    "### More to come. Stay tuned"
   ]
  }
 ],
 "metadata": {
  "kernelspec": {
   "display_name": "Python 3",
   "language": "python",
   "name": "python3"
  },
  "language_info": {
   "codemirror_mode": {
    "name": "ipython",
    "version": 3
   },
   "file_extension": ".py",
   "mimetype": "text/x-python",
   "name": "python",
   "nbconvert_exporter": "python",
   "pygments_lexer": "ipython3",
   "version": "3.6.0"
  }
 },
 "nbformat": 4,
 "nbformat_minor": 2
}
